{
 "cells": [
  {
   "cell_type": "code",
   "execution_count": 1,
   "id": "49d5af0d",
   "metadata": {},
   "outputs": [
    {
     "name": "stdout",
     "output_type": "stream",
     "text": [
      "Requirement already satisfied: PyMuPDF in c:\\users\\karam\\anaconda3\\lib\\site-packages (1.26.0)\n",
      "Requirement already satisfied: opencv-python in c:\\users\\karam\\anaconda3\\lib\\site-packages (4.11.0.86)\n",
      "Requirement already satisfied: numpy in c:\\users\\karam\\anaconda3\\lib\\site-packages (1.24.3)\n",
      "Requirement already satisfied: tqdm in c:\\users\\karam\\anaconda3\\lib\\site-packages (4.65.0)\n",
      "Requirement already satisfied: pytesseract in c:\\users\\karam\\anaconda3\\lib\\site-packages (0.3.13)\n",
      "Requirement already satisfied: pillow in c:\\users\\karam\\anaconda3\\lib\\site-packages (10.3.0)\n",
      "Requirement already satisfied: colorama in c:\\users\\karam\\anaconda3\\lib\\site-packages (from tqdm) (0.4.6)\n",
      "Requirement already satisfied: packaging>=21.3 in c:\\users\\karam\\anaconda3\\lib\\site-packages (from pytesseract) (23.1)\n"
     ]
    }
   ],
   "source": [
    "!pip install PyMuPDF opencv-python numpy tqdm pytesseract pillow"
   ]
  },
  {
   "cell_type": "code",
   "execution_count": 2,
   "id": "522fc4d4",
   "metadata": {},
   "outputs": [],
   "source": [
    "import os\n",
    "import fitz  # PyMuPDF\n",
    "import cv2\n",
    "import numpy as np\n",
    "from tqdm.notebook import tqdm\n",
    "import json\n",
    "import pandas as pd\n",
    "import pytesseract\n",
    "from datetime import datetime\n",
    "from IPython.display import display, Image as IPImage\n",
    "import errno"
   ]
  },
  {
   "cell_type": "code",
   "execution_count": 3,
   "id": "d0083f1c",
   "metadata": {},
   "outputs": [],
   "source": [
    "INPUT_PDF_DIR =  \"D:\\GERMANY\\Research Lab 2025\\Data\" \n",
    "EXISTING_OUTPUT_DIR = \"D:\\GERMANY\\Research Lab 2025\\Data_img\"  \n",
    "\n",
    "pytesseract.pytesseract.tesseract_cmd = r\"C:\\Program Files\\Tesseract-OCR\\tesseract.exe\""
   ]
  },
  {
   "cell_type": "code",
   "execution_count": 4,
   "id": "e1bd3c45",
   "metadata": {},
   "outputs": [],
   "source": [
    "# Processing parameters\n",
    "DPI = 300  # Image resolution (150-600 recommended)\n",
    "LANGUAGE = \"deu\"  # For German text (\"eng\" for English)\n",
    "TESSERACT_CONFIG = r'--psm 6 --oem 3'  # OCR engine mode\n",
    "\n",
    "# Processing flags\n",
    "SAVE_IMAGES = True       # Set False to skip image saving\n",
    "EXTRACT_TEXT = True      # Set False to skip OCR\n",
    "PREVIEW_FIRST_PAGE = False  # Show preview of first page\n",
    "MAX_TEXT_PREVIEW = 500   # Characters to show in preview"
   ]
  },
  {
   "cell_type": "code",
   "execution_count": 5,
   "id": "5c19e69d",
   "metadata": {},
   "outputs": [],
   "source": [
    "OUTPUT_IMAGE_DIR = os.path.join(EXISTING_OUTPUT_DIR, \"images\")\n",
    "OUTPUT_JSON_PATH = os.path.join(EXISTING_OUTPUT_DIR, \"results.json\")\n",
    "OUTPUT_CSV_PATH = os.path.join(EXISTING_OUTPUT_DIR, \"results.csv\")\n",
    "OUTPUT_STATS_PATH = os.path.join(EXISTING_OUTPUT_DIR, \"stats.json\")\n"
   ]
  },
  {
   "cell_type": "code",
   "execution_count": 6,
   "id": "e791cb48",
   "metadata": {},
   "outputs": [
    {
     "name": "stdout",
     "output_type": "stream",
     "text": [
      "Output will be saved to: D:\\GERMANY\\Research Lab 2025\\Data_img\n"
     ]
    }
   ],
   "source": [
    "try:\n",
    "    os.makedirs(EXISTING_OUTPUT_DIR, exist_ok=True)\n",
    "    if SAVE_IMAGES:\n",
    "        os.makedirs(OUTPUT_IMAGE_DIR, exist_ok=True)\n",
    "    print(f\"Output will be saved to: {EXISTING_OUTPUT_DIR}\")\n",
    "except PermissionError as e:\n",
    "    raise PermissionError(f\"Cannot access output directory {EXISTING_OUTPUT_DIR}: {str(e)}\")\n"
   ]
  },
  {
   "cell_type": "code",
   "execution_count": 7,
   "id": "1a7caf76",
   "metadata": {},
   "outputs": [],
   "source": [
    "def preprocess_for_ocr(img):\n",
    "    \"\"\"Enhance image for better OCR results\"\"\"\n",
    "    gray = cv2.cvtColor(img, cv2.COLOR_BGR2GRAY)\n",
    "    thresh = cv2.adaptiveThreshold(gray, 255, cv2.ADAPTIVE_THRESH_GAUSSIAN_C,\n",
    "                                 cv2.THRESH_BINARY, 11, 2)\n",
    "    denoised = cv2.fastNlMeansDenoising(thresh, h=30)\n",
    "    kernel = np.array([[0, -1, 0], [-1, 5,-1], [0, -1, 0]])\n",
    "    return cv2.filter2D(denoised, -1, kernel)\n",
    "\n",
    "def pdf_to_cv2(page, dpi=300):\n",
    "    \"\"\"Convert PDF page to OpenCV image\"\"\"\n",
    "    pix = page.get_pixmap(dpi=dpi)\n",
    "    img = np.frombuffer(pix.samples, dtype=np.uint8).reshape((pix.height, pix.width, 3))\n",
    "    return cv2.cvtColor(img, cv2.COLOR_RGB2BGR)\n",
    "\n",
    "def extract_text(page, img):\n",
    "    \"\"\"Extract text using both PDF extraction and OCR fallback\"\"\"\n",
    "    try:\n",
    "        text = page.get_text(\"text\").strip()\n",
    "        if len(text) < 50:  # Fallback to OCR if little text found\n",
    "            processed_img = preprocess_for_ocr(img)\n",
    "            text = pytesseract.image_to_string(\n",
    "                processed_img, \n",
    "                lang=LANGUAGE,\n",
    "                config=TESSERACT_CONFIG\n",
    "            ).strip()\n",
    "        return text\n",
    "    except Exception as e:\n",
    "        print(f\"Text extraction error: {str(e)}\")\n",
    "        return \"\"\n",
    "\n",
    "def safe_save(data, path):\n",
    "    \"\"\"Safe file writing with error handling\"\"\"\n",
    "    try:\n",
    "        if path.endswith('.json'):\n",
    "            with open(path, 'w', encoding='utf-8') as f:\n",
    "                json.dump(data, f, indent=2, ensure_ascii=False)\n",
    "        elif path.endswith('.csv'):\n",
    "            data.to_csv(path, index=False, encoding='utf-8')\n",
    "        return True\n",
    "    except PermissionError:\n",
    "        print(f\"Permission denied for {path}. Trying alternative...\")\n",
    "        try:\n",
    "            temp_path = path + \".temp\"\n",
    "            if path.endswith('.json'):\n",
    "                with open(temp_path, 'w', encoding='utf-8') as f:\n",
    "                    json.dump(data, f, indent=2, ensure_ascii=False)\n",
    "            elif path.endswith('.csv'):\n",
    "                data.to_csv(temp_path, index=False, encoding='utf-8')\n",
    "            os.replace(temp_path, path)  # Atomic write\n",
    "            return True\n",
    "        except Exception as e:\n",
    "            print(f\"Failed to save {path}: {str(e)}\")\n",
    "            return False"
   ]
  },
  {
   "cell_type": "code",
   "execution_count": 8,
   "id": "0b9dd466",
   "metadata": {},
   "outputs": [],
   "source": [
    "def process_pdf(pdf_path):\n",
    "    \"\"\"Process a single PDF file\"\"\"\n",
    "    doc = fitz.open(pdf_path)\n",
    "    base_name = os.path.splitext(os.path.basename(pdf_path))[0]\n",
    "    results = []\n",
    "    \n",
    "    for page_num in range(len(doc)):\n",
    "        page = doc.load_page(page_num)\n",
    "        img = pdf_to_cv2(page, DPI)\n",
    "        \n",
    "        # Save image\n",
    "        img_path = None\n",
    "        if SAVE_IMAGES:\n",
    "            img_path = os.path.join(OUTPUT_IMAGE_DIR, f\"{base_name}_p{page_num+1}.png\")\n",
    "            try:\n",
    "                cv2.imwrite(img_path, img)\n",
    "            except Exception as e:\n",
    "                print(f\"Couldn't save image {img_path}: {str(e)}\")\n",
    "                img_path = None\n",
    "        \n",
    "        # Extract text\n",
    "        text = extract_text(page, img) if EXTRACT_TEXT else \"\"\n",
    "        \n",
    "        # Store results\n",
    "        results.append({\n",
    "            \"pdf\": base_name,\n",
    "            \"page\": page_num + 1,\n",
    "            \"image_path\": img_path,\n",
    "            \"text\": text,\n",
    "            \"text_length\": len(text),\n",
    "            \"timestamp\": datetime.now().isoformat()\n",
    "        })\n",
    "        \n",
    "        # Preview first page\n",
    "        if PREVIEW_FIRST_PAGE and page_num == 0:\n",
    "            _, ret = cv2.imencode('.png', img)\n",
    "            display(IPImage(data=ret.tobytes(), width=600))\n",
    "            print(f\"Preview: {base_name} (Page 1)\")\n",
    "            if EXTRACT_TEXT and text:\n",
    "                print(f\"\\nText length: {len(text)} characters\")\n",
    "                print(\"\\nText preview:\\n\" + text[:MAX_TEXT_PREVIEW] + (\"...\" if len(text) > MAX_TEXT_PREVIEW else \"\"))\n",
    "    \n",
    "    return results"
   ]
  },
  {
   "cell_type": "code",
   "execution_count": 9,
   "id": "4cfeef89",
   "metadata": {},
   "outputs": [
    {
     "name": "stdout",
     "output_type": "stream",
     "text": [
      "Processing 272 PDF files...\n"
     ]
    },
    {
     "data": {
      "application/vnd.jupyter.widget-view+json": {
       "model_id": "95788fd4f6bc45128ee47d1d014290da",
       "version_major": 2,
       "version_minor": 0
      },
      "text/plain": [
       "  0%|          | 0/272 [00:00<?, ?it/s]"
      ]
     },
     "metadata": {},
     "output_type": "display_data"
    },
    {
     "name": "stdout",
     "output_type": "stream",
     "text": [
      "\n",
      "Results saved successfully:\n",
      "- JSON: D:\\GERMANY\\Research Lab 2025\\Data_img\\results.json\n",
      "- CSV: D:\\GERMANY\\Research Lab 2025\\Data_img\\results.csv\n",
      "- Images: D:\\GERMANY\\Research Lab 2025\\Data_img\\images\n",
      "- Stats: D:\\GERMANY\\Research Lab 2025\\Data_img\\stats.json\n",
      "\n",
      "Processing complete! Results saved to D:\\GERMANY\\Research Lab 2025\\Data_img\n"
     ]
    }
   ],
   "source": [
    "def batch_process():\n",
    "    \"\"\"Process all PDFs in the input directory\"\"\"\n",
    "    pdf_files = [f for f in os.listdir(INPUT_PDF_DIR) if f.lower().endswith('.pdf')]\n",
    "    if not pdf_files:\n",
    "        raise FileNotFoundError(f\"No PDF files found in {INPUT_PDF_DIR}\")\n",
    "    \n",
    "    all_results = []\n",
    "    print(f\"Processing {len(pdf_files)} PDF files...\")\n",
    "    \n",
    "    for pdf_file in tqdm(pdf_files):\n",
    "        pdf_path = os.path.join(INPUT_PDF_DIR, pdf_file)\n",
    "        try:\n",
    "            all_results.extend(process_pdf(pdf_path))\n",
    "        except Exception as e:\n",
    "            print(f\"\\nError processing {pdf_file}: {str(e)}\")\n",
    "    \n",
    "    # Save results\n",
    "    if all_results:\n",
    "        df = pd.DataFrame(all_results)\n",
    "        stats = {\n",
    "            \"total_pdfs\": df['pdf'].nunique(),\n",
    "            \"total_pages\": len(df),\n",
    "            \"average_text_length\": df['text_length'].mean(),\n",
    "            \"processing_time\": datetime.now().isoformat()\n",
    "        }\n",
    "        \n",
    "        # Save with permission handling\n",
    "        success = (\n",
    "            safe_save(all_results, OUTPUT_JSON_PATH) and\n",
    "            safe_save(df, OUTPUT_CSV_PATH) and\n",
    "            safe_save(stats, OUTPUT_STATS_PATH)\n",
    "        )\n",
    "        \n",
    "        if success:\n",
    "            print(\"\\nResults saved successfully:\")\n",
    "            print(f\"- JSON: {OUTPUT_JSON_PATH}\")\n",
    "            print(f\"- CSV: {OUTPUT_CSV_PATH}\")\n",
    "            print(f\"- Images: {OUTPUT_IMAGE_DIR}\")\n",
    "            print(f\"- Stats: {OUTPUT_STATS_PATH}\")\n",
    "        else:\n",
    "            print(\"\\nSome files couldn't be saved due to permission issues\")\n",
    "        \n",
    "        return df\n",
    "    else:\n",
    "        print(\"\\nNo results were generated\")\n",
    "        return None\n",
    "\n",
    "# 9. Execute the processing\n",
    "if __name__ == \"__main__\":\n",
    "    final_results = batch_process()\n",
    "    if final_results is not None:\n",
    "        print(f\"\\nProcessing complete! Results saved to {EXISTING_OUTPUT_DIR}\")"
   ]
  },
  {
   "cell_type": "code",
   "execution_count": null,
   "id": "ff36b324",
   "metadata": {},
   "outputs": [],
   "source": []
  }
 ],
 "metadata": {
  "kernelspec": {
   "display_name": "Python 3 (ipykernel)",
   "language": "python",
   "name": "python3"
  },
  "language_info": {
   "codemirror_mode": {
    "name": "ipython",
    "version": 3
   },
   "file_extension": ".py",
   "mimetype": "text/x-python",
   "name": "python",
   "nbconvert_exporter": "python",
   "pygments_lexer": "ipython3",
   "version": "3.11.5"
  }
 },
 "nbformat": 4,
 "nbformat_minor": 5
}
